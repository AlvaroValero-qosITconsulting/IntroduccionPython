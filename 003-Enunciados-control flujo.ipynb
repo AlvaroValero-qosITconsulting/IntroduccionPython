{
 "cells": [
  {
   "cell_type": "markdown",
   "metadata": {},
   "source": [
    "# Tema 03: Control de flujo (Enunciados)\n",
    "*Nota: Estos ejercicios son optativos para hacer al final de la unidad y están pensados para apoyar tu aprendizaje*."
   ]
  },
  {
   "cell_type": "markdown",
   "metadata": {},
   "source": [
    "**1) Realiza un programa que lea dos números por teclado y permita elegir entre 3 opciones en un menú:** \n",
    "* Mostrar una suma de los dos números\n",
    "* Mostrar una resta de los dos números (el primero menos el segundo)\n",
    "* Mostrar una multiplicación de los dos números\n",
    "* En caso de no introducir una opción válida, el programa informará de que no es correcta."
   ]
  },
  {
   "cell_type": "code",
   "execution_count": 6,
   "metadata": {},
   "outputs": [
    {
     "name": "stdin",
     "output_type": "stream",
     "text": [
      "Introduce un número 2\n",
      "Introduce otro número 3\n"
     ]
    },
    {
     "name": "stdout",
     "output_type": "stream",
     "text": [
      "Opcion 1: sumar\n",
      "Opcion 2: restar\n",
      "Opcion 3: multiplicar\n"
     ]
    },
    {
     "name": "stdin",
     "output_type": "stream",
     "text": [
      "Eliga una opción 1\n"
     ]
    },
    {
     "name": "stdout",
     "output_type": "stream",
     "text": [
      "5\n"
     ]
    }
   ],
   "source": [
    "num1 = int(input(\"Introduce un número\"))\n",
    "num2 = int(input(\"Introduce otro número\"))\n",
    "print(\"Opcion 1: sumar\")\n",
    "print(\"Opcion 2: restar\")\n",
    "print(\"Opcion 3: multiplicar\")\n",
    "opcion = int(input(\"Eliga una opción\"))\n",
    "def switch(opcion, num1, num2):\n",
    "    if opcion == 1:\n",
    "        return num1 + num2\n",
    "    elif opcion == 2:\n",
    "        return num1 - num2\n",
    "    elif opcion == 3:\n",
    "        return num1 * num2\n",
    "    else:\n",
    "        return print(\"No es una opción válida\")\n",
    "\n",
    "resultado = switch(opcion, num1, num2)\n",
    "print(resultado)\n"
   ]
  },
  {
   "cell_type": "markdown",
   "metadata": {},
   "source": [
    "**2) Realiza un programa que lea un número impar por teclado. Si el usuario no introduce un número impar, debe repetise el proceso hasta que lo introduzca correctamente.**"
   ]
  },
  {
   "cell_type": "code",
   "execution_count": 9,
   "metadata": {},
   "outputs": [
    {
     "name": "stdin",
     "output_type": "stream",
     "text": [
      "Introduce un número impar 4\n",
      "Introduce un número impar 4\n",
      "Introduce un número impar 2\n",
      "Introduce un número impar 0\n",
      "Introduce un número impar 1\n"
     ]
    }
   ],
   "source": [
    "num1 = 2\n",
    "while num1%2 == 0:\n",
    "    num1 = int(input(\"Introduce un número impar\"))\n"
   ]
  },
  {
   "cell_type": "markdown",
   "metadata": {},
   "source": [
    "**3) Realiza un programa que sume todos los números enteros pares desde el 0 hasta el 100:**\n",
    "\n",
    "*Sugerencia: Puedes utilizar la funciones sum() y range() para hacerlo más fácil. El tercer parámetro en la función range(inicio, fin, salto) indica un salto de números, pruébalo.*"
   ]
  },
  {
   "cell_type": "code",
   "execution_count": 11,
   "metadata": {},
   "outputs": [
    {
     "name": "stdout",
     "output_type": "stream",
     "text": [
      "2550\n"
     ]
    }
   ],
   "source": [
    "suma = 0\n",
    "for i in range(0, 102, 2):\n",
    "    suma += i\n",
    "print(suma)\n",
    "        "
   ]
  },
  {
   "cell_type": "markdown",
   "metadata": {},
   "source": [
    "**4) Realiza un programa que pida al usuario cuantos números quiere introducir. Luego lee todos los números y realiza una media aritmética:**\n"
   ]
  },
  {
   "cell_type": "code",
   "execution_count": 17,
   "metadata": {},
   "outputs": [
    {
     "name": "stdin",
     "output_type": "stream",
     "text": [
      "¿Cuántos número quiere introducir? 3\n",
      "Introduce un número 5\n"
     ]
    },
    {
     "name": "stdout",
     "output_type": "stream",
     "text": [
      "5\n"
     ]
    },
    {
     "name": "stdin",
     "output_type": "stream",
     "text": [
      "Introduce un número 5\n"
     ]
    },
    {
     "name": "stdout",
     "output_type": "stream",
     "text": [
      "10\n"
     ]
    },
    {
     "name": "stdin",
     "output_type": "stream",
     "text": [
      "Introduce un número 5\n"
     ]
    },
    {
     "name": "stdout",
     "output_type": "stream",
     "text": [
      "15\n",
      "======\n",
      "5.0\n"
     ]
    }
   ],
   "source": [
    "cant_nums = int(input(\"¿Cuántos número quiere introducir?\"))\n",
    "suma = 0\n",
    "media = 0\n",
    "for i in range (0, cant_nums, 1):\n",
    "    num = int(input(\"Introduce un número\"))\n",
    "    suma += num\n",
    "    print(suma)\n",
    "print(\"======\")\n",
    "media = suma/cant_nums\n",
    "print(\"Media\", media)\n",
    "    "
   ]
  },
  {
   "cell_type": "markdown",
   "metadata": {},
   "source": [
    "**5) Realiza un programa que pida al usuario un número entero del 0 al 9, y que mientras el número no sea correcto se repita el proceso. Luego debe comprobar si el número se encuentra en la lista de números y notificarlo:**\n",
    "\n",
    "*Consejo: La sintaxis \"valor in lista\" permite comprobar fácilmente si un valor se encuentra en una lista (devuelve True o False)*"
   ]
  },
  {
   "cell_type": "code",
   "execution_count": 28,
   "metadata": {},
   "outputs": [
    {
     "name": "stdin",
     "output_type": "stream",
     "text": [
      "Adivina un número entre 0 y 9:  -1\n"
     ]
    },
    {
     "name": "stdout",
     "output_type": "stream",
     "text": [
      "Por favor, introduce un número del 0 al 9\n"
     ]
    },
    {
     "name": "stdin",
     "output_type": "stream",
     "text": [
      "Adivina un número entre 0 y 9:  4\n"
     ]
    },
    {
     "name": "stdout",
     "output_type": "stream",
     "text": [
      "¡Acertaste!\n"
     ]
    }
   ],
   "source": [
    "num = 0\n",
    "lista = [4,5]\n",
    "while True:\n",
    "    try: \n",
    "        num = int(input(\"Adivina un número entre 0 y 9: \"))\n",
    "        if -1 < num < 10:\n",
    "            break\n",
    "        else:\n",
    "            print(\"Por favor, introduce un número del 0 al 9\")\n",
    "    except ValueError:\n",
    "        print(\"Eso no es un número entero. Inténtalo de nuevo\")\n",
    "\n",
    "if num in lista:\n",
    "    print(\"¡Acertaste!\")\n",
    "else:\n",
    "    print(\"¡Fallaste!\")"
   ]
  },
  {
   "cell_type": "markdown",
   "metadata": {},
   "source": [
    "**6) Utilizando la función range() y la conversión a listas genera las siguientes listas dinámicamente:**\n",
    "* Todos los números del 0 al 10 [0, 1, 2, ..., 10]\n",
    "* Todos los números del -10 al 0 [-10, -9, -8, ..., 0]\n",
    "* Todos los números pares del 0 al 20 [0, 2, 4, ..., 20]\n",
    "* Todos los números impares entre -20 y 0 [-19, -17, -15, ..., -1]\n",
    "* Todos los números múltiples de 5 del 0 al 50 [0, 5, 10, ..., 50]\n",
    "\n",
    "*Pista: Utiliza el tercer parámetro de la función range(inicio, fin, salto).*"
   ]
  },
  {
   "cell_type": "code",
   "execution_count": 33,
   "metadata": {},
   "outputs": [
    {
     "name": "stdout",
     "output_type": "stream",
     "text": [
      "[0, 1, 2, 3, 4, 5, 6, 7, 8, 9, 10]\n",
      "[-10, -9, -8, -7, -6, -5, -4, -3, -2, -1, 0]\n",
      "[0, 2, 4, 6, 8, 10, 12, 14, 16, 18, 20]\n",
      "[-19, -17, -15, -13, -11, -9, -7, -5, -3, -1]\n",
      "[0, 5, 10, 15, 20, 25, 30, 35, 40, 45, 50]\n"
     ]
    }
   ],
   "source": [
    "list_1_10 = list(range(0, 11))\n",
    "print(list_1_10)\n",
    "\n",
    "list_neg10_0 = list(range(-10, 1))\n",
    "print(list_neg10_0)\n",
    "\n",
    "list_pares = list(range(0, 21, 2))\n",
    "print(list_pares)\n",
    "\n",
    "list_impares_neg20_0 = list(range(-19, 0, 2))\n",
    "print(list_impares_neg20_0)\n",
    "\n",
    "list_multiples_0_50 = list(range(0, 51, 5))\n",
    "print(list_multiples_0_50)"
   ]
  },
  {
   "cell_type": "code",
   "execution_count": null,
   "metadata": {},
   "outputs": [],
   "source": [
    "print(list(range(0,11)))#---Todos los números del 0 al 10\n",
    "print(list(range(-10,1,1)))#---Todos los números del -10 al 0\n",
    "print(list(range(0,21,2)))#---Todos los números pares del 0 al 20\n",
    "print(list(range(-19,1,2)))#---Todos los números impares entre -20 y 0\n",
    "print(list(range(0,51,5)))#---Todos los números múltiples de 5 del 0 al 50"
   ]
  },
  {
   "cell_type": "markdown",
   "metadata": {},
   "source": [
    "**7) Dadas dos listas, debes generar una tercera con todos los elementos que se repitan en ellas, pero no debe repetise ningún elemento en la nueva lista:**"
   ]
  },
  {
   "cell_type": "code",
   "execution_count": 38,
   "metadata": {},
   "outputs": [
    {
     "name": "stdout",
     "output_type": "stream",
     "text": [
      "[2, 3]\n"
     ]
    }
   ],
   "source": [
    "# Completa el ejercicio aquí\n",
    "list1 = [1,2,3,4]\n",
    "list2 = [5,2,3,7]\n",
    "list_comun = []\n",
    "for elemento in list1:\n",
    "    if elemento in list2 and elemento not in list_comun:\n",
    "        list_comun.append(elemento)\n",
    "\n",
    "print(list_comun)"
   ]
  },
  {
   "cell_type": "code",
   "execution_count": null,
   "metadata": {},
   "outputs": [],
   "source": []
  }
 ],
 "metadata": {
  "anaconda-cloud": {},
  "kernelspec": {
   "display_name": "Python 3 (ipykernel)",
   "language": "python",
   "name": "python3"
  },
  "language_info": {
   "codemirror_mode": {
    "name": "ipython",
    "version": 3
   },
   "file_extension": ".py",
   "mimetype": "text/x-python",
   "name": "python",
   "nbconvert_exporter": "python",
   "pygments_lexer": "ipython3",
   "version": "3.12.8"
  }
 },
 "nbformat": 4,
 "nbformat_minor": 4
}
